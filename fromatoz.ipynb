{
 "cells": [
  {
   "cell_type": "markdown",
   "metadata": {},
   "source": [
    "# ✍️ From A to Z\n",
    "\n",
    "Our goal is to go from data extracted from the [ChemArXiV](https://chemrxiv.org/engage/chemrxiv/public-dashboard) dataset by Marta to a dataset of synthetic data that could be used to train models in the Chemistry domain."
   ]
  },
  {
   "cell_type": "code",
   "execution_count": null,
   "metadata": {},
   "outputs": [],
   "source": [
    "!conda create -n fromatob -yq --file ./package-list.txt"
   ]
  },
  {
   "cell_type": "markdown",
   "metadata": {},
   "source": [
    "## 📖 Dataset generation"
   ]
  },
  {
   "cell_type": "markdown",
   "metadata": {},
   "source": [
    "First we start by taking the data and transforming it into a huggingface dataset. This is done by temporarily transforming it into a .json file before reading the json and transforming it into a [arrow](https://arrow.apache.org/) file format."
   ]
  },
  {
   "cell_type": "markdown",
   "metadata": {},
   "source": [
    "First we import the necessary libraries for this first step."
   ]
  },
  {
   "cell_type": "code",
   "execution_count": 2,
   "metadata": {},
   "outputs": [],
   "source": [
    "import os\n",
    "import json\n",
    "from concurrent.futures import ThreadPoolExecutor\n",
    "import xml.etree.ElementTree as ET\n",
    "from tqdm import tqdm"
   ]
  },
  {
   "cell_type": "markdown",
   "metadata": {},
   "source": [
    "We then define the input and temp. output dir. ⚠️ Change this to your directory !"
   ]
  },
  {
   "cell_type": "code",
   "execution_count": 3,
   "metadata": {},
   "outputs": [],
   "source": [
    "SOURCE_DIR = \"datasets/chemrxiv_papers\"\n",
    "DEST_DIR = \"datasets/temp\""
   ]
  },
  {
   "cell_type": "markdown",
   "metadata": {},
   "source": [
    "We're going to take the opportunity of embedding the data into the different templates we want to use during the rephrasing part. We define them beneath, they were taken off the [cosmopedia](https://github.com/huggingface/cosmopedia/tree/main) github."
   ]
  },
  {
   "cell_type": "code",
   "execution_count": 4,
   "metadata": {},
   "outputs": [],
   "source": [
    "STYLES = {\"wikihow\":\n",
    "\"\"\"Here is an extract from a webpage: \"<INSERT_EXTRACT>\".\n",
    "\n",
    "Write a long and very detailed tutorial that could be part of WikiHow whose title is related to the extract above <ADD_TOPIC>. Include in depth explanations for each step and how it helps achieve the desired outcome, inluding key tips and guidelines. \n",
    "Ensure clarity and practicality, allowing readers to easily follow and apply the instructions. Do not use images.\"\"\",\n",
    "\n",
    "\"textbook_narrative\":\n",
    "\"\"\"Here is an extract from a webpage: \"<INSERT_EXTRACT>\".\n",
    "\n",
    "Write an extensive and detailed course unit suitable for a textbook, related to the given extract <ADD_TOPIC>. Do not just list concepts, but develop each one in detail before moving to the next, as we prioritize depth of understanding and comprehensive exploration of the subject matter over breadth. Focus on:\n",
    "\n",
    "- Rigor: Ensure in-depth coverage of the concepts.\n",
    "- Engagement: Use a narrative style akin to Michael Lewis, making it captivating and thought-provoking.\n",
    "- Relevance: Connect the topic with current trends, real-life examples, or recent studies. Do not use images.\n",
    "Do not include a title or an introduction, simply write the content without headlines and introductory phrases. Do not use images.\"\"\",\n",
    "\n",
    "\"textbook_academic\":\n",
    "\"\"\"Here is an extract from a webpage: \"<INSERT_EXTRACT>\".\n",
    "\n",
    "Write an extensive and detailed course unit suitable for a textbook targeted at college students, related to the given extract <ADD_TOPIC>. Do not just list concepts, but develop each one in detail before moving to the next, as we prioritize depth of understanding and comprehensive exploration of the subject matter over breadth. Focus on:\n",
    "\n",
    "- Rigor: Ensure in-depth coverage of the concepts/sections.\n",
    "- Engagement: Write with an academic, professional and engaging tone that captivates interest.\n",
    "- Application: Incorporate specific, practical examples, such as proofs in calculus or critical dates and figures in history.\n",
    "Do not include a title or an introduction, simply write the content without headlines and introductory phrases. Do not use images.\"\"\",\n",
    "\n",
    "\"blogpost\":\n",
    "\"\"\"Here is an extract from a webpage: \"<INSERT_EXTRACT>\".\n",
    "\n",
    "Write an informative and insightful blog post that expands upon the extract above <ADD_TOPIC>. Your post should delve into the nuances of the topic, offering fresh perspectives and deeper analysis. Aim to:\n",
    "\n",
    "- Inform: Provide valuable, well-researched information that educates the reader.\n",
    "- Engage: Write in a conversational tone that connects with the audience, making complex ideas accessible.\n",
    "- Illustrate: Use examples, anecdotes, or personal experiences to bring the topic to life.\n",
    "Do not give a title and do not start with sentences like \"Have you ever...\" or \"Hello dear readers..\", simply write the content without these introductory phrases.\"\"\"\n",
    "}"
   ]
  },
  {
   "cell_type": "markdown",
   "metadata": {},
   "source": [
    "Complex part, we iterate over the files and attempt to only keep relevant paragraphs. We multithread to speed up the process and define min. and max. text lenghts we with to extract. Based off [Rephrasing the Web](https://arxiv.org/abs/2401.16380) we keep it underneath 400 words as more makes the model lose context during sythesizing.\n",
    "\n",
    "        \" Each example has a maximum of 300 tokens, which was decided based on our empirical observation that asking an LLM to rephrase more than 300 tokens, often led to loss of information.\" - Rephrasing the Web\n",
    "\n",
    "\n",
    "We also keep the title as it can be used for further context down the road."
   ]
  },
  {
   "cell_type": "code",
   "execution_count": 9,
   "metadata": {},
   "outputs": [
    {
     "name": "stdout",
     "output_type": "stream",
     "text": [
      "22739\n"
     ]
    },
    {
     "name": "stderr",
     "output_type": "stream",
     "text": [
      "Processing Batch 1/228:   0%|          | 0/100 [00:00<?, ?it/s]"
     ]
    },
    {
     "name": "stderr",
     "output_type": "stream",
     "text": [
      "Processing Batch 1/228:  34%|███▍      | 34/100 [00:00<00:00, 338.38it/s]"
     ]
    },
    {
     "name": "stdout",
     "output_type": "stream",
     "text": [
      "replace() argument 2 must be str, not None\n"
     ]
    },
    {
     "name": "stderr",
     "output_type": "stream",
     "text": [
      "Processing Batch 1/228: 100%|██████████| 100/100 [00:00<00:00, 340.05it/s]\n",
      "Processing Batch 2/228: 100%|██████████| 100/100 [00:00<00:00, 274.95it/s]\n",
      "Processing Batch 3/228: 100%|██████████| 100/100 [00:00<00:00, 293.13it/s]\n",
      "Processing Batch 4/228: 100%|██████████| 100/100 [00:00<00:00, 246.54it/s]\n"
     ]
    },
    {
     "name": "stdout",
     "output_type": "stream",
     "text": [
      "replace() argument 2 must be str, not None\n"
     ]
    },
    {
     "name": "stderr",
     "output_type": "stream",
     "text": [
      "Processing Batch 5/228: 100%|██████████| 100/100 [00:00<00:00, 284.27it/s]\n",
      "Processing Batch 6/228: 100%|██████████| 100/100 [00:00<00:00, 300.05it/s]\n",
      "Processing Batch 7/228: 100%|██████████| 100/100 [00:00<00:00, 297.73it/s]\n",
      "Processing Batch 8/228: 100%|██████████| 100/100 [00:00<00:00, 415.98it/s]\n",
      "Processing Batch 9/228: 100%|██████████| 100/100 [00:00<00:00, 362.61it/s]\n",
      "Processing Batch 10/228: 100%|██████████| 100/100 [00:00<00:00, 309.17it/s]\n"
     ]
    },
    {
     "name": "stdout",
     "output_type": "stream",
     "text": [
      "replace() argument 2 must be str, not None\n"
     ]
    },
    {
     "name": "stderr",
     "output_type": "stream",
     "text": [
      "Processing Batch 11/228: 100%|██████████| 100/100 [00:00<00:00, 295.74it/s]\n"
     ]
    },
    {
     "name": "stdout",
     "output_type": "stream",
     "text": [
      "replace() argument 2 must be str, not None\n"
     ]
    },
    {
     "name": "stderr",
     "output_type": "stream",
     "text": [
      "Processing Batch 12/228: 100%|██████████| 100/100 [00:00<00:00, 266.86it/s]\n"
     ]
    },
    {
     "name": "stdout",
     "output_type": "stream",
     "text": [
      "replace() argument 2 must be str, not None\n"
     ]
    },
    {
     "name": "stderr",
     "output_type": "stream",
     "text": [
      "Processing Batch 13/228:   0%|          | 0/100 [00:00<?, ?it/s]"
     ]
    },
    {
     "name": "stdout",
     "output_type": "stream",
     "text": [
      "replace() argument 2 must be str, not None\n"
     ]
    },
    {
     "name": "stderr",
     "output_type": "stream",
     "text": [
      "Processing Batch 13/228:  24%|██▍       | 24/100 [00:00<00:00, 238.16it/s]"
     ]
    },
    {
     "name": "stdout",
     "output_type": "stream",
     "text": [
      "replace() argument 2 must be str, not None\n",
      "replace() argument 2 must be str, not None\n"
     ]
    },
    {
     "name": "stderr",
     "output_type": "stream",
     "text": [
      "Processing Batch 13/228:  60%|██████    | 60/100 [00:00<00:00, 238.54it/s]"
     ]
    },
    {
     "name": "stdout",
     "output_type": "stream",
     "text": [
      "replace() argument 2 must be str, not None\n"
     ]
    },
    {
     "name": "stderr",
     "output_type": "stream",
     "text": [
      "Processing Batch 13/228: 100%|██████████| 100/100 [00:00<00:00, 249.39it/s]\n",
      "Processing Batch 14/228: 100%|██████████| 100/100 [00:00<00:00, 272.85it/s]\n",
      "Processing Batch 15/228: 100%|██████████| 100/100 [00:00<00:00, 381.66it/s]\n",
      "Processing Batch 16/228: 100%|██████████| 100/100 [00:00<00:00, 315.98it/s]\n",
      "Processing Batch 17/228: 100%|██████████| 100/100 [00:00<00:00, 286.66it/s]\n",
      "Processing Batch 18/228: 100%|██████████| 100/100 [00:00<00:00, 267.46it/s]\n",
      "Processing Batch 19/228: 100%|██████████| 100/100 [00:00<00:00, 280.78it/s]\n",
      "Processing Batch 20/228: 100%|██████████| 100/100 [00:00<00:00, 398.18it/s]\n"
     ]
    },
    {
     "name": "stdout",
     "output_type": "stream",
     "text": [
      "replace() argument 2 must be str, not None\n",
      "replace() argument 2 must be str, not None\n"
     ]
    },
    {
     "name": "stderr",
     "output_type": "stream",
     "text": [
      "Processing Batch 21/228: 100%|██████████| 100/100 [00:00<00:00, 422.41it/s]\n"
     ]
    },
    {
     "name": "stdout",
     "output_type": "stream",
     "text": [
      "replace() argument 2 must be str, not None\n"
     ]
    },
    {
     "name": "stderr",
     "output_type": "stream",
     "text": [
      "Processing Batch 22/228:  37%|███▋      | 37/100 [00:00<00:00, 331.94it/s]"
     ]
    },
    {
     "name": "stdout",
     "output_type": "stream",
     "text": [
      "replace() argument 2 must be str, not None\n"
     ]
    },
    {
     "name": "stderr",
     "output_type": "stream",
     "text": [
      "Processing Batch 22/228: 100%|██████████| 100/100 [00:00<00:00, 373.95it/s]\n",
      "Processing Batch 23/228: 100%|██████████| 100/100 [00:00<00:00, 404.28it/s]\n",
      "Processing Batch 24/228: 100%|██████████| 100/100 [00:00<00:00, 387.64it/s]\n"
     ]
    },
    {
     "name": "stdout",
     "output_type": "stream",
     "text": [
      "replace() argument 2 must be str, not None\n",
      "replace() argument 2 must be str, not None\n",
      "replace() argument 2 must be str, not None\n"
     ]
    },
    {
     "name": "stderr",
     "output_type": "stream",
     "text": [
      "Processing Batch 25/228: 100%|██████████| 100/100 [00:00<00:00, 413.43it/s]\n",
      "Processing Batch 26/228: 100%|██████████| 100/100 [00:00<00:00, 396.71it/s]\n"
     ]
    },
    {
     "name": "stdout",
     "output_type": "stream",
     "text": [
      "replace() argument 2 must be str, not None\n",
      "replace() argument 2 must be str, not None\n"
     ]
    },
    {
     "name": "stderr",
     "output_type": "stream",
     "text": [
      "Processing Batch 27/228: 100%|██████████| 100/100 [00:00<00:00, 375.74it/s]\n",
      "Processing Batch 28/228: 100%|██████████| 100/100 [00:00<00:00, 380.86it/s]\n"
     ]
    },
    {
     "name": "stdout",
     "output_type": "stream",
     "text": [
      "replace() argument 2 must be str, not None\n"
     ]
    },
    {
     "name": "stderr",
     "output_type": "stream",
     "text": [
      "Processing Batch 29/228: 100%|██████████| 100/100 [00:00<00:00, 421.13it/s]\n",
      "Processing Batch 30/228: 100%|██████████| 100/100 [00:00<00:00, 359.06it/s]\n",
      "Processing Batch 31/228: 100%|██████████| 100/100 [00:00<00:00, 350.77it/s]\n"
     ]
    },
    {
     "name": "stdout",
     "output_type": "stream",
     "text": [
      "replace() argument 2 must be str, not None\n",
      "replace() argument 2 must be str, not None\n"
     ]
    },
    {
     "name": "stderr",
     "output_type": "stream",
     "text": [
      "Processing Batch 32/228: 100%|██████████| 100/100 [00:00<00:00, 358.26it/s]\n"
     ]
    },
    {
     "name": "stdout",
     "output_type": "stream",
     "text": [
      "replace() argument 2 must be str, not None\n"
     ]
    },
    {
     "name": "stderr",
     "output_type": "stream",
     "text": [
      "Processing Batch 33/228: 100%|██████████| 100/100 [00:00<00:00, 374.04it/s]\n",
      "Processing Batch 34/228: 100%|██████████| 100/100 [00:00<00:00, 373.35it/s]\n",
      "Processing Batch 35/228: 100%|██████████| 100/100 [00:00<00:00, 307.48it/s]\n",
      "Processing Batch 36/228: 100%|██████████| 100/100 [00:00<00:00, 408.72it/s]\n"
     ]
    },
    {
     "name": "stdout",
     "output_type": "stream",
     "text": [
      "replace() argument 2 must be str, not None\n"
     ]
    },
    {
     "name": "stderr",
     "output_type": "stream",
     "text": [
      "Processing Batch 37/228: 100%|██████████| 100/100 [00:00<00:00, 396.71it/s]\n",
      "Processing Batch 38/228: 100%|██████████| 100/100 [00:00<00:00, 365.55it/s]\n",
      "Processing Batch 39/228: 100%|██████████| 100/100 [00:00<00:00, 369.22it/s]\n",
      "Processing Batch 40/228: 100%|██████████| 100/100 [00:00<00:00, 356.32it/s]\n",
      "Processing Batch 41/228: 100%|██████████| 100/100 [00:00<00:00, 279.72it/s]\n",
      "Processing Batch 42/228: 100%|██████████| 100/100 [00:00<00:00, 328.56it/s]\n",
      "Processing Batch 43/228: 100%|██████████| 100/100 [00:00<00:00, 439.91it/s]\n"
     ]
    },
    {
     "name": "stdout",
     "output_type": "stream",
     "text": [
      "replace() argument 2 must be str, not None\n"
     ]
    },
    {
     "name": "stderr",
     "output_type": "stream",
     "text": [
      "Processing Batch 44/228: 100%|██████████| 100/100 [00:00<00:00, 315.26it/s]\n",
      "Processing Batch 45/228: 100%|██████████| 100/100 [00:00<00:00, 447.53it/s]\n",
      "Processing Batch 46/228: 100%|██████████| 100/100 [00:00<00:00, 390.21it/s]\n",
      "Processing Batch 47/228: 100%|██████████| 100/100 [00:00<00:00, 299.46it/s]\n",
      "Processing Batch 48/228: 100%|██████████| 100/100 [00:00<00:00, 333.25it/s]\n",
      "Processing Batch 49/228: 100%|██████████| 100/100 [00:00<00:00, 402.59it/s]\n"
     ]
    },
    {
     "name": "stdout",
     "output_type": "stream",
     "text": [
      "replace() argument 2 must be str, not None\n"
     ]
    },
    {
     "name": "stderr",
     "output_type": "stream",
     "text": [
      "Processing Batch 50/228:  83%|████████▎ | 83/100 [00:00<00:00, 342.10it/s]"
     ]
    },
    {
     "name": "stdout",
     "output_type": "stream",
     "text": [
      "replace() argument 2 must be str, not None\n"
     ]
    },
    {
     "name": "stderr",
     "output_type": "stream",
     "text": [
      "Processing Batch 50/228: 100%|██████████| 100/100 [00:00<00:00, 378.26it/s]\n",
      "Processing Batch 51/228:  38%|███▊      | 38/100 [00:00<00:00, 349.74it/s]"
     ]
    },
    {
     "name": "stdout",
     "output_type": "stream",
     "text": [
      "replace() argument 2 must be str, not None\n",
      "replace() argument 2 must be str, not None\n"
     ]
    },
    {
     "name": "stderr",
     "output_type": "stream",
     "text": [
      "Processing Batch 51/228: 100%|██████████| 100/100 [00:00<00:00, 374.64it/s]\n"
     ]
    },
    {
     "name": "stdout",
     "output_type": "stream",
     "text": [
      "replace() argument 2 must be str, not None\n"
     ]
    },
    {
     "name": "stderr",
     "output_type": "stream",
     "text": [
      "Processing Batch 52/228:  35%|███▌      | 35/100 [00:00<00:00, 349.58it/s]"
     ]
    },
    {
     "name": "stdout",
     "output_type": "stream",
     "text": [
      "replace() argument 2 must be str, not None\n"
     ]
    },
    {
     "name": "stderr",
     "output_type": "stream",
     "text": [
      "Processing Batch 52/228:  78%|███████▊  | 78/100 [00:00<00:00, 396.14it/s]"
     ]
    },
    {
     "name": "stdout",
     "output_type": "stream",
     "text": [
      "replace() argument 2 must be str, not None\n"
     ]
    },
    {
     "name": "stderr",
     "output_type": "stream",
     "text": [
      "Processing Batch 52/228: 100%|██████████| 100/100 [00:00<00:00, 364.48it/s]\n",
      "Processing Batch 53/228:  42%|████▏     | 42/100 [00:00<00:00, 411.75it/s]"
     ]
    },
    {
     "name": "stdout",
     "output_type": "stream",
     "text": [
      "replace() argument 2 must be str, not None\n",
      "replace() argument 2 must be str, not None\n"
     ]
    },
    {
     "name": "stderr",
     "output_type": "stream",
     "text": [
      "Processing Batch 53/228: 100%|██████████| 100/100 [00:00<00:00, 332.07it/s]\n",
      "Processing Batch 54/228: 100%|██████████| 100/100 [00:00<00:00, 352.97it/s]\n",
      "Processing Batch 55/228: 100%|██████████| 100/100 [00:00<00:00, 412.33it/s]\n",
      "Processing Batch 56/228:  49%|████▉     | 49/100 [00:00<00:00, 386.67it/s]"
     ]
    },
    {
     "name": "stdout",
     "output_type": "stream",
     "text": [
      "replace() argument 2 must be str, not None\n"
     ]
    },
    {
     "name": "stderr",
     "output_type": "stream",
     "text": [
      "Processing Batch 56/228: 100%|██████████| 100/100 [00:00<00:00, 428.55it/s]\n"
     ]
    },
    {
     "name": "stdout",
     "output_type": "stream",
     "text": [
      "replace() argument 2 must be str, not None\n"
     ]
    },
    {
     "name": "stderr",
     "output_type": "stream",
     "text": [
      "Processing Batch 57/228: 100%|██████████| 100/100 [00:00<00:00, 440.28it/s]\n"
     ]
    },
    {
     "name": "stdout",
     "output_type": "stream",
     "text": [
      "replace() argument 2 must be str, not None\n"
     ]
    },
    {
     "name": "stderr",
     "output_type": "stream",
     "text": [
      "Processing Batch 58/228: 100%|██████████| 100/100 [00:00<00:00, 361.12it/s]\n",
      "Processing Batch 59/228: 100%|██████████| 100/100 [00:00<00:00, 323.38it/s]\n",
      "Processing Batch 60/228: 100%|██████████| 100/100 [00:00<00:00, 400.48it/s]\n",
      "Processing Batch 61/228: 100%|██████████| 100/100 [00:00<00:00, 299.93it/s]\n"
     ]
    },
    {
     "name": "stdout",
     "output_type": "stream",
     "text": [
      "replace() argument 2 must be str, not None\n"
     ]
    },
    {
     "name": "stderr",
     "output_type": "stream",
     "text": [
      "Processing Batch 62/228: 100%|██████████| 100/100 [00:00<00:00, 288.31it/s]\n",
      "Processing Batch 63/228: 100%|██████████| 100/100 [00:00<00:00, 343.97it/s]\n"
     ]
    },
    {
     "name": "stdout",
     "output_type": "stream",
     "text": [
      "replace() argument 2 must be str, not None\n"
     ]
    },
    {
     "name": "stderr",
     "output_type": "stream",
     "text": [
      "Processing Batch 64/228: 100%|██████████| 100/100 [00:00<00:00, 317.24it/s]\n"
     ]
    },
    {
     "name": "stdout",
     "output_type": "stream",
     "text": [
      "replace() argument 2 must be str, not None\n"
     ]
    },
    {
     "name": "stderr",
     "output_type": "stream",
     "text": [
      "Processing Batch 65/228: 100%|██████████| 100/100 [00:00<00:00, 328.08it/s]\n",
      "Processing Batch 66/228: 100%|██████████| 100/100 [00:00<00:00, 486.29it/s]\n"
     ]
    },
    {
     "name": "stdout",
     "output_type": "stream",
     "text": [
      "replace() argument 2 must be str, not None\n",
      "replace() argument 2 must be str, not None\n"
     ]
    },
    {
     "name": "stderr",
     "output_type": "stream",
     "text": [
      "Processing Batch 67/228:  39%|███▉      | 39/100 [00:00<00:00, 340.69it/s]"
     ]
    },
    {
     "name": "stdout",
     "output_type": "stream",
     "text": [
      "replace() argument 2 must be str, not None\n"
     ]
    },
    {
     "name": "stderr",
     "output_type": "stream",
     "text": [
      "Processing Batch 67/228: 100%|██████████| 100/100 [00:00<00:00, 355.99it/s]\n",
      "Processing Batch 68/228: 100%|██████████| 100/100 [00:00<00:00, 375.02it/s]\n",
      "Processing Batch 69/228: 100%|██████████| 100/100 [00:00<00:00, 416.27it/s]\n",
      "Processing Batch 70/228: 100%|██████████| 100/100 [00:00<00:00, 361.23it/s]\n",
      "Processing Batch 71/228:  39%|███▉      | 39/100 [00:00<00:00, 303.72it/s]"
     ]
    },
    {
     "name": "stdout",
     "output_type": "stream",
     "text": [
      "replace() argument 2 must be str, not None\n",
      "replace() argument 2 must be str, not None\n",
      "replace() argument 2 must be str, not None\n"
     ]
    },
    {
     "name": "stderr",
     "output_type": "stream",
     "text": [
      "Processing Batch 71/228: 100%|██████████| 100/100 [00:00<00:00, 396.42it/s]\n",
      "Processing Batch 72/228: 100%|██████████| 100/100 [00:00<00:00, 353.33it/s]\n",
      "Processing Batch 73/228:  88%|████████▊ | 88/100 [00:00<00:00, 332.45it/s]"
     ]
    },
    {
     "name": "stdout",
     "output_type": "stream",
     "text": [
      "replace() argument 2 must be str, not None\n"
     ]
    },
    {
     "name": "stderr",
     "output_type": "stream",
     "text": [
      "Processing Batch 73/228: 100%|██████████| 100/100 [00:00<00:00, 326.32it/s]\n",
      "Processing Batch 74/228: 100%|██████████| 100/100 [00:00<00:00, 374.06it/s]\n",
      "Processing Batch 75/228: 100%|██████████| 100/100 [00:00<00:00, 373.94it/s]\n",
      "Processing Batch 76/228: 100%|██████████| 100/100 [00:00<00:00, 420.09it/s]\n"
     ]
    },
    {
     "name": "stdout",
     "output_type": "stream",
     "text": [
      "replace() argument 2 must be str, not None\n",
      "replace() argument 2 must be str, not None\n"
     ]
    },
    {
     "name": "stderr",
     "output_type": "stream",
     "text": [
      "Processing Batch 77/228: 100%|██████████| 100/100 [00:00<00:00, 473.26it/s]\n",
      "Processing Batch 78/228: 100%|██████████| 100/100 [00:00<00:00, 309.53it/s]\n",
      "Processing Batch 79/228: 100%|██████████| 100/100 [00:00<00:00, 420.76it/s]\n",
      "Processing Batch 80/228: 100%|██████████| 100/100 [00:00<00:00, 420.95it/s]\n"
     ]
    },
    {
     "name": "stdout",
     "output_type": "stream",
     "text": [
      "replace() argument 2 must be str, not None\n"
     ]
    },
    {
     "name": "stderr",
     "output_type": "stream",
     "text": [
      "Processing Batch 81/228: 100%|██████████| 100/100 [00:00<00:00, 471.44it/s]\n"
     ]
    },
    {
     "name": "stdout",
     "output_type": "stream",
     "text": [
      "replace() argument 2 must be str, not None\n"
     ]
    },
    {
     "name": "stderr",
     "output_type": "stream",
     "text": [
      "Processing Batch 82/228: 100%|██████████| 100/100 [00:00<00:00, 321.22it/s]\n",
      "Processing Batch 83/228: 100%|██████████| 100/100 [00:00<00:00, 397.73it/s]\n"
     ]
    },
    {
     "name": "stdout",
     "output_type": "stream",
     "text": [
      "replace() argument 2 must be str, not None\n"
     ]
    },
    {
     "name": "stderr",
     "output_type": "stream",
     "text": [
      "Processing Batch 84/228: 100%|██████████| 100/100 [00:00<00:00, 442.70it/s]\n"
     ]
    },
    {
     "name": "stdout",
     "output_type": "stream",
     "text": [
      "replace() argument 2 must be str, not None\n"
     ]
    },
    {
     "name": "stderr",
     "output_type": "stream",
     "text": [
      "Processing Batch 85/228: 100%|██████████| 100/100 [00:00<00:00, 471.70it/s]\n",
      "Processing Batch 86/228:  46%|████▌     | 46/100 [00:00<00:00, 453.10it/s]"
     ]
    },
    {
     "name": "stdout",
     "output_type": "stream",
     "text": [
      "replace() argument 2 must be str, not None\n"
     ]
    },
    {
     "name": "stderr",
     "output_type": "stream",
     "text": [
      "Processing Batch 86/228: 100%|██████████| 100/100 [00:00<00:00, 392.29it/s]\n",
      "Processing Batch 87/228: 100%|██████████| 100/100 [00:00<00:00, 411.21it/s]\n",
      "Processing Batch 88/228: 100%|██████████| 100/100 [00:00<00:00, 311.82it/s]\n",
      "Processing Batch 89/228: 100%|██████████| 100/100 [00:00<00:00, 420.03it/s]\n",
      "Processing Batch 90/228:  73%|███████▎  | 73/100 [00:00<00:00, 371.97it/s]"
     ]
    },
    {
     "name": "stdout",
     "output_type": "stream",
     "text": [
      "replace() argument 2 must be str, not None\n"
     ]
    },
    {
     "name": "stderr",
     "output_type": "stream",
     "text": [
      "Processing Batch 90/228: 100%|██████████| 100/100 [00:00<00:00, 319.27it/s]\n",
      "Processing Batch 91/228: 100%|██████████| 100/100 [00:00<00:00, 374.75it/s]\n"
     ]
    },
    {
     "name": "stdout",
     "output_type": "stream",
     "text": [
      "replace() argument 2 must be str, not None\n"
     ]
    },
    {
     "name": "stderr",
     "output_type": "stream",
     "text": [
      "Processing Batch 92/228:   0%|          | 0/100 [00:00<?, ?it/s]"
     ]
    },
    {
     "name": "stdout",
     "output_type": "stream",
     "text": [
      "replace() argument 2 must be str, not None\n"
     ]
    },
    {
     "name": "stderr",
     "output_type": "stream",
     "text": [
      "Processing Batch 92/228:  78%|███████▊  | 78/100 [00:00<00:00, 384.54it/s]"
     ]
    },
    {
     "name": "stdout",
     "output_type": "stream",
     "text": [
      "replace() argument 2 must be str, not None\n"
     ]
    },
    {
     "name": "stderr",
     "output_type": "stream",
     "text": [
      "Processing Batch 92/228: 100%|██████████| 100/100 [00:00<00:00, 363.38it/s]\n",
      "Processing Batch 93/228:   0%|          | 0/100 [00:00<?, ?it/s]"
     ]
    },
    {
     "name": "stdout",
     "output_type": "stream",
     "text": [
      "replace() argument 2 must be str, not None\n"
     ]
    },
    {
     "name": "stderr",
     "output_type": "stream",
     "text": [
      "Processing Batch 93/228: 100%|██████████| 100/100 [00:00<00:00, 328.47it/s]\n",
      "Processing Batch 94/228: 100%|██████████| 100/100 [00:00<00:00, 366.57it/s]\n",
      "Processing Batch 95/228: 100%|██████████| 100/100 [00:00<00:00, 404.29it/s]\n"
     ]
    },
    {
     "name": "stdout",
     "output_type": "stream",
     "text": [
      "replace() argument 2 must be str, not None\n"
     ]
    },
    {
     "name": "stderr",
     "output_type": "stream",
     "text": [
      "Processing Batch 96/228: 100%|██████████| 100/100 [00:00<00:00, 356.39it/s]\n",
      "Processing Batch 97/228: 100%|██████████| 100/100 [00:00<00:00, 394.65it/s]\n",
      "Processing Batch 98/228: 100%|██████████| 100/100 [00:00<00:00, 308.84it/s]\n",
      "Processing Batch 99/228: 100%|██████████| 100/100 [00:00<00:00, 362.28it/s]\n",
      "Processing Batch 100/228: 100%|██████████| 100/100 [00:00<00:00, 379.33it/s]\n",
      "Processing Batch 101/228: 100%|██████████| 100/100 [00:00<00:00, 391.72it/s]\n"
     ]
    },
    {
     "name": "stdout",
     "output_type": "stream",
     "text": [
      "replace() argument 2 must be str, not None\n"
     ]
    },
    {
     "name": "stderr",
     "output_type": "stream",
     "text": [
      "Processing Batch 102/228: 100%|██████████| 100/100 [00:00<00:00, 523.12it/s]\n",
      "Processing Batch 103/228:  47%|████▋     | 47/100 [00:00<00:00, 456.41it/s]"
     ]
    },
    {
     "name": "stdout",
     "output_type": "stream",
     "text": [
      "replace() argument 2 must be str, not None\n"
     ]
    },
    {
     "name": "stderr",
     "output_type": "stream",
     "text": [
      "Processing Batch 103/228: 100%|██████████| 100/100 [00:00<00:00, 395.48it/s]\n",
      "Processing Batch 104/228:  76%|███████▌  | 76/100 [00:00<00:00, 373.70it/s]"
     ]
    },
    {
     "name": "stdout",
     "output_type": "stream",
     "text": [
      "replace() argument 2 must be str, not None\n"
     ]
    },
    {
     "name": "stderr",
     "output_type": "stream",
     "text": [
      "Processing Batch 104/228: 100%|██████████| 100/100 [00:00<00:00, 356.09it/s]\n",
      "Processing Batch 105/228: 100%|██████████| 100/100 [00:00<00:00, 292.79it/s]\n",
      "Processing Batch 106/228: 100%|██████████| 100/100 [00:00<00:00, 386.86it/s]\n",
      "Processing Batch 107/228: 100%|██████████| 100/100 [00:00<00:00, 358.80it/s]\n",
      "Processing Batch 108/228: 100%|██████████| 100/100 [00:00<00:00, 312.54it/s]\n",
      "Processing Batch 109/228: 100%|██████████| 100/100 [00:00<00:00, 331.23it/s]"
     ]
    },
    {
     "name": "stdout",
     "output_type": "stream",
     "text": [
      "replace() argument 2 must be str, not None\n"
     ]
    },
    {
     "name": "stderr",
     "output_type": "stream",
     "text": [
      "\n",
      "Processing Batch 110/228: 100%|██████████| 100/100 [00:00<00:00, 389.69it/s]\n"
     ]
    },
    {
     "name": "stdout",
     "output_type": "stream",
     "text": [
      "replace() argument 2 must be str, not None\n"
     ]
    },
    {
     "name": "stderr",
     "output_type": "stream",
     "text": [
      "Processing Batch 111/228:   0%|          | 0/100 [00:00<?, ?it/s]"
     ]
    },
    {
     "name": "stdout",
     "output_type": "stream",
     "text": [
      "replace() argument 2 must be str, not None\n"
     ]
    },
    {
     "name": "stderr",
     "output_type": "stream",
     "text": [
      "Processing Batch 111/228: 100%|██████████| 100/100 [00:00<00:00, 344.52it/s]\n",
      "Processing Batch 112/228: 100%|██████████| 100/100 [00:00<00:00, 380.84it/s]\n"
     ]
    },
    {
     "name": "stdout",
     "output_type": "stream",
     "text": [
      "replace() argument 2 must be str, not None"
     ]
    },
    {
     "name": "stderr",
     "output_type": "stream",
     "text": [
      "Processing Batch 113/228:  32%|███▏      | 32/100 [00:00<00:00, 301.05it/s]"
     ]
    },
    {
     "name": "stdout",
     "output_type": "stream",
     "text": [
      "\n"
     ]
    },
    {
     "name": "stderr",
     "output_type": "stream",
     "text": [
      "Processing Batch 113/228: 100%|██████████| 100/100 [00:00<00:00, 324.48it/s]\n",
      "Processing Batch 114/228: 100%|██████████| 100/100 [00:00<00:00, 332.16it/s]\n"
     ]
    },
    {
     "name": "stdout",
     "output_type": "stream",
     "text": [
      "replace() argument 2 must be str, not None\n"
     ]
    },
    {
     "name": "stderr",
     "output_type": "stream",
     "text": [
      "Processing Batch 115/228: 100%|██████████| 100/100 [00:00<00:00, 299.30it/s]\n",
      "Processing Batch 116/228: 100%|██████████| 100/100 [00:00<00:00, 277.61it/s]\n",
      "Processing Batch 117/228: 100%|██████████| 100/100 [00:00<00:00, 275.69it/s]\n",
      "Processing Batch 118/228: 100%|██████████| 100/100 [00:00<00:00, 273.83it/s]\n",
      "Processing Batch 119/228: 100%|██████████| 100/100 [00:00<00:00, 273.07it/s]\n",
      "Processing Batch 120/228: 100%|██████████| 100/100 [00:00<00:00, 274.95it/s]\n"
     ]
    },
    {
     "name": "stdout",
     "output_type": "stream",
     "text": [
      "replace() argument 2 must be str, not None\n"
     ]
    },
    {
     "name": "stderr",
     "output_type": "stream",
     "text": [
      "Processing Batch 121/228: 100%|██████████| 100/100 [00:00<00:00, 277.51it/s]\n"
     ]
    },
    {
     "name": "stdout",
     "output_type": "stream",
     "text": [
      "replace() argument 2 must be str, not None\n"
     ]
    },
    {
     "name": "stderr",
     "output_type": "stream",
     "text": [
      "Processing Batch 122/228: 100%|██████████| 100/100 [00:00<00:00, 254.21it/s]\n",
      "Processing Batch 123/228: 100%|██████████| 100/100 [00:00<00:00, 310.63it/s]\n"
     ]
    },
    {
     "name": "stdout",
     "output_type": "stream",
     "text": [
      "replace() argument 2 must be str, not None\n"
     ]
    },
    {
     "name": "stderr",
     "output_type": "stream",
     "text": [
      "Processing Batch 124/228: 100%|██████████| 100/100 [00:00<00:00, 249.61it/s]\n",
      "Processing Batch 125/228: 100%|██████████| 100/100 [00:00<00:00, 236.18it/s]\n",
      "Processing Batch 126/228: 100%|██████████| 100/100 [00:00<00:00, 299.90it/s]\n",
      "Processing Batch 127/228: 100%|██████████| 100/100 [00:00<00:00, 474.60it/s]\n",
      "Processing Batch 128/228: 100%|██████████| 100/100 [00:00<00:00, 356.20it/s]\n"
     ]
    },
    {
     "name": "stdout",
     "output_type": "stream",
     "text": [
      "replace() argument 2 must be str, not None\n"
     ]
    },
    {
     "name": "stderr",
     "output_type": "stream",
     "text": [
      "Processing Batch 129/228:  89%|████████▉ | 89/100 [00:00<00:00, 440.43it/s]"
     ]
    },
    {
     "name": "stdout",
     "output_type": "stream",
     "text": [
      "replace() argument 2 must be str, not None\n"
     ]
    },
    {
     "name": "stderr",
     "output_type": "stream",
     "text": [
      "Processing Batch 129/228: 100%|██████████| 100/100 [00:00<00:00, 345.33it/s]\n",
      "Processing Batch 130/228: 100%|██████████| 100/100 [00:00<00:00, 311.35it/s]\n",
      "Processing Batch 131/228: 100%|██████████| 100/100 [00:00<00:00, 378.82it/s]\n",
      "Processing Batch 132/228: 100%|██████████| 100/100 [00:00<00:00, 363.80it/s]\n"
     ]
    },
    {
     "name": "stdout",
     "output_type": "stream",
     "text": [
      "replace() argument 2 must be str, not None\n"
     ]
    },
    {
     "name": "stderr",
     "output_type": "stream",
     "text": [
      "Processing Batch 133/228:  39%|███▉      | 39/100 [00:00<00:00, 377.59it/s]"
     ]
    },
    {
     "name": "stdout",
     "output_type": "stream",
     "text": [
      "replace() argument 2 must be str, not None\n",
      "replace() argument 2 must be str, not None\n"
     ]
    },
    {
     "name": "stderr",
     "output_type": "stream",
     "text": [
      "Processing Batch 133/228: 100%|██████████| 100/100 [00:00<00:00, 369.85it/s]\n",
      "Processing Batch 134/228: 100%|██████████| 100/100 [00:00<00:00, 330.35it/s]\n",
      "Processing Batch 135/228: 100%|██████████| 100/100 [00:00<00:00, 393.12it/s]\n"
     ]
    },
    {
     "name": "stdout",
     "output_type": "stream",
     "text": [
      "replace() argument 2 must be str, not None\n"
     ]
    },
    {
     "name": "stderr",
     "output_type": "stream",
     "text": [
      "Processing Batch 136/228:  53%|█████▎    | 53/100 [00:00<00:00, 527.64it/s]"
     ]
    },
    {
     "name": "stdout",
     "output_type": "stream",
     "text": [
      "replace() argument 2 must be str, not None\n",
      "replace() argument 2 must be str, not None\n"
     ]
    },
    {
     "name": "stderr",
     "output_type": "stream",
     "text": [
      "Processing Batch 136/228: 100%|██████████| 100/100 [00:00<00:00, 435.85it/s]\n",
      "Processing Batch 137/228: 100%|██████████| 100/100 [00:00<00:00, 388.73it/s]\n",
      "Processing Batch 138/228: 100%|██████████| 100/100 [00:00<00:00, 309.91it/s]\n"
     ]
    },
    {
     "name": "stdout",
     "output_type": "stream",
     "text": [
      "replace() argument 2 must be str, not None\n"
     ]
    },
    {
     "name": "stderr",
     "output_type": "stream",
     "text": [
      "Processing Batch 139/228: 100%|██████████| 100/100 [00:00<00:00, 410.60it/s]\n",
      "Processing Batch 140/228: 100%|██████████| 100/100 [00:00<00:00, 420.96it/s]\n"
     ]
    },
    {
     "name": "stdout",
     "output_type": "stream",
     "text": [
      "replace() argument 2 must be str, not None\n",
      "replace() argument 2 must be str, not None\n"
     ]
    },
    {
     "name": "stderr",
     "output_type": "stream",
     "text": [
      "Processing Batch 141/228: 100%|██████████| 100/100 [00:00<00:00, 352.59it/s]\n",
      "Processing Batch 142/228: 100%|██████████| 100/100 [00:00<00:00, 309.86it/s]\n",
      "Processing Batch 143/228: 100%|██████████| 100/100 [00:00<00:00, 345.35it/s]\n",
      "Processing Batch 144/228:  91%|█████████ | 91/100 [00:00<00:00, 381.96it/s]"
     ]
    },
    {
     "name": "stdout",
     "output_type": "stream",
     "text": [
      "replace() argument 2 must be str, not None\n",
      "replace() argument 2 must be str, not None\n"
     ]
    },
    {
     "name": "stderr",
     "output_type": "stream",
     "text": [
      "Processing Batch 144/228: 100%|██████████| 100/100 [00:00<00:00, 401.23it/s]\n",
      "Processing Batch 145/228: 100%|██████████| 100/100 [00:00<00:00, 413.44it/s]\n",
      "Processing Batch 146/228: 100%|██████████| 100/100 [00:00<00:00, 417.73it/s]\n"
     ]
    },
    {
     "name": "stdout",
     "output_type": "stream",
     "text": [
      "replace() argument 2 must be str, not None"
     ]
    },
    {
     "name": "stderr",
     "output_type": "stream",
     "text": [
      "Processing Batch 147/228:  46%|████▌     | 46/100 [00:00<00:00, 344.31it/s]"
     ]
    },
    {
     "name": "stdout",
     "output_type": "stream",
     "text": [
      "\n",
      "replace() argument 2 must be str, not None\n"
     ]
    },
    {
     "name": "stderr",
     "output_type": "stream",
     "text": [
      "Processing Batch 147/228: 100%|██████████| 100/100 [00:00<00:00, 364.41it/s]\n",
      "Processing Batch 148/228: 100%|██████████| 100/100 [00:00<00:00, 302.65it/s]\n"
     ]
    },
    {
     "name": "stdout",
     "output_type": "stream",
     "text": [
      "replace() argument 2 must be str, not None\n"
     ]
    },
    {
     "name": "stderr",
     "output_type": "stream",
     "text": [
      "Processing Batch 149/228:  43%|████▎     | 43/100 [00:00<00:00, 415.96it/s]"
     ]
    },
    {
     "name": "stdout",
     "output_type": "stream",
     "text": [
      "replace() argument 2 must be str, not None\n"
     ]
    },
    {
     "name": "stderr",
     "output_type": "stream",
     "text": [
      "Processing Batch 149/228: 100%|██████████| 100/100 [00:00<00:00, 434.16it/s]\n",
      "Processing Batch 150/228: 100%|██████████| 100/100 [00:00<00:00, 393.57it/s]\n",
      "Processing Batch 151/228: 100%|██████████| 100/100 [00:00<00:00, 411.19it/s]\n",
      "Processing Batch 152/228: 100%|██████████| 100/100 [00:00<00:00, 419.80it/s]\n"
     ]
    },
    {
     "name": "stdout",
     "output_type": "stream",
     "text": [
      "replace() argument 2 must be str, not None\n",
      "replace() argument 2 must be str, not None\n"
     ]
    },
    {
     "name": "stderr",
     "output_type": "stream",
     "text": [
      "Processing Batch 153/228: 100%|██████████| 100/100 [00:00<00:00, 385.55it/s]\n"
     ]
    },
    {
     "name": "stdout",
     "output_type": "stream",
     "text": [
      "replace() argument 2 must be str, not None\n"
     ]
    },
    {
     "name": "stderr",
     "output_type": "stream",
     "text": [
      "Processing Batch 154/228: 100%|██████████| 100/100 [00:00<00:00, 441.25it/s]\n"
     ]
    },
    {
     "name": "stdout",
     "output_type": "stream",
     "text": [
      "replace() argument 2 must be str, not None\n"
     ]
    },
    {
     "name": "stderr",
     "output_type": "stream",
     "text": [
      "Processing Batch 155/228: 100%|██████████| 100/100 [00:00<00:00, 402.68it/s]\n",
      "Processing Batch 156/228: 100%|██████████| 100/100 [00:00<00:00, 375.45it/s]\n",
      "Processing Batch 157/228: 100%|██████████| 100/100 [00:00<00:00, 485.89it/s]\n"
     ]
    },
    {
     "name": "stdout",
     "output_type": "stream",
     "text": [
      "replace() argument 2 must be str, not None\n",
      "replace() argument 2 must be str, not None\n",
      "replace() argument 2 must be str, not None\n"
     ]
    },
    {
     "name": "stderr",
     "output_type": "stream",
     "text": [
      "Processing Batch 158/228: 100%|██████████| 100/100 [00:00<00:00, 371.19it/s]\n",
      "Processing Batch 159/228: 100%|██████████| 100/100 [00:00<00:00, 386.78it/s]"
     ]
    },
    {
     "name": "stdout",
     "output_type": "stream",
     "text": [
      "replace() argument 2 must be str, not None\n"
     ]
    },
    {
     "name": "stderr",
     "output_type": "stream",
     "text": [
      "\n",
      "Processing Batch 160/228: 100%|██████████| 100/100 [00:00<00:00, 422.02it/s]\n"
     ]
    },
    {
     "name": "stdout",
     "output_type": "stream",
     "text": [
      "replace() argument 2 must be str, not None\n"
     ]
    },
    {
     "name": "stderr",
     "output_type": "stream",
     "text": [
      "Processing Batch 161/228: 100%|██████████| 100/100 [00:00<00:00, 417.21it/s]\n",
      "Processing Batch 162/228: 100%|██████████| 100/100 [00:00<00:00, 319.69it/s]\n",
      "Processing Batch 163/228: 100%|██████████| 100/100 [00:00<00:00, 407.38it/s]\n",
      "Processing Batch 164/228: 100%|██████████| 100/100 [00:00<00:00, 379.49it/s]\n",
      "Processing Batch 165/228: 100%|██████████| 100/100 [00:00<00:00, 389.74it/s]\n"
     ]
    },
    {
     "name": "stdout",
     "output_type": "stream",
     "text": [
      "replace() argument 2 must be str, not None\n"
     ]
    },
    {
     "name": "stderr",
     "output_type": "stream",
     "text": [
      "Processing Batch 166/228: 100%|██████████| 100/100 [00:00<00:00, 427.00it/s]\n"
     ]
    },
    {
     "name": "stdout",
     "output_type": "stream",
     "text": [
      "replace() argument 2 must be str, not None\n",
      "replace() argument 2 must be str, not None\n"
     ]
    },
    {
     "name": "stderr",
     "output_type": "stream",
     "text": [
      "Processing Batch 167/228: 100%|██████████| 100/100 [00:00<00:00, 422.09it/s]\n",
      "Processing Batch 168/228: 100%|██████████| 100/100 [00:00<00:00, 415.52it/s]\n",
      "Processing Batch 169/228:  65%|██████▌   | 65/100 [00:00<00:00, 331.14it/s]"
     ]
    },
    {
     "name": "stdout",
     "output_type": "stream",
     "text": [
      "replace() argument 2 must be str, not None\n"
     ]
    },
    {
     "name": "stderr",
     "output_type": "stream",
     "text": [
      "Processing Batch 169/228: 100%|██████████| 100/100 [00:00<00:00, 319.24it/s]\n",
      "Processing Batch 170/228: 100%|██████████| 100/100 [00:00<00:00, 303.70it/s]\n",
      "Processing Batch 171/228: 100%|██████████| 100/100 [00:00<00:00, 415.27it/s]\n",
      "Processing Batch 172/228:  42%|████▏     | 42/100 [00:00<00:00, 412.28it/s]"
     ]
    },
    {
     "name": "stdout",
     "output_type": "stream",
     "text": [
      "replace() argument 2 must be str, not None\n",
      "replace() argument 2 must be str, not None\n"
     ]
    },
    {
     "name": "stderr",
     "output_type": "stream",
     "text": [
      "Processing Batch 172/228: 100%|██████████| 100/100 [00:00<00:00, 311.60it/s]\n"
     ]
    },
    {
     "name": "stdout",
     "output_type": "stream",
     "text": [
      "replace() argument 2 must be str, not None\n"
     ]
    },
    {
     "name": "stderr",
     "output_type": "stream",
     "text": [
      "Processing Batch 173/228: 100%|██████████| 100/100 [00:00<00:00, 299.58it/s]\n"
     ]
    },
    {
     "name": "stdout",
     "output_type": "stream",
     "text": [
      "replace() argument 2 must be str, not None\n"
     ]
    },
    {
     "name": "stderr",
     "output_type": "stream",
     "text": [
      "Processing Batch 174/228:  35%|███▌      | 35/100 [00:00<00:00, 349.04it/s]"
     ]
    },
    {
     "name": "stdout",
     "output_type": "stream",
     "text": [
      "replace() argument 2 must be str, not None\n"
     ]
    },
    {
     "name": "stderr",
     "output_type": "stream",
     "text": [
      "Processing Batch 174/228: 100%|██████████| 100/100 [00:00<00:00, 335.95it/s]\n",
      "Processing Batch 175/228: 100%|██████████| 100/100 [00:00<00:00, 321.96it/s]\n",
      "Processing Batch 176/228: 100%|██████████| 100/100 [00:00<00:00, 398.29it/s]\n"
     ]
    },
    {
     "name": "stdout",
     "output_type": "stream",
     "text": [
      "replace() argument 2 must be str, not None\n"
     ]
    },
    {
     "name": "stderr",
     "output_type": "stream",
     "text": [
      "Processing Batch 177/228: 100%|██████████| 100/100 [00:00<00:00, 433.32it/s]"
     ]
    },
    {
     "name": "stdout",
     "output_type": "stream",
     "text": [
      "replace() argument 2 must be str, not None\n"
     ]
    },
    {
     "name": "stderr",
     "output_type": "stream",
     "text": [
      "\n",
      "Processing Batch 178/228: 100%|██████████| 100/100 [00:00<00:00, 423.58it/s]\n",
      "Processing Batch 179/228: 100%|██████████| 100/100 [00:00<00:00, 418.98it/s]"
     ]
    },
    {
     "name": "stdout",
     "output_type": "stream",
     "text": [
      "replace() argument 2 must be str, not None\n"
     ]
    },
    {
     "name": "stderr",
     "output_type": "stream",
     "text": [
      "\n",
      "Processing Batch 180/228: 100%|██████████| 100/100 [00:00<00:00, 397.55it/s]\n"
     ]
    },
    {
     "name": "stdout",
     "output_type": "stream",
     "text": [
      "replace() argument 2 must be str, not None\n"
     ]
    },
    {
     "name": "stderr",
     "output_type": "stream",
     "text": [
      "Processing Batch 181/228: 100%|██████████| 100/100 [00:00<00:00, 318.40it/s]\n",
      "Processing Batch 182/228: 100%|██████████| 100/100 [00:00<00:00, 403.27it/s]\n",
      "Processing Batch 183/228: 100%|██████████| 100/100 [00:00<00:00, 415.92it/s]\n",
      "Processing Batch 184/228: 100%|██████████| 100/100 [00:00<00:00, 359.96it/s]\n",
      "Processing Batch 185/228: 100%|██████████| 100/100 [00:00<00:00, 417.65it/s]\n"
     ]
    },
    {
     "name": "stdout",
     "output_type": "stream",
     "text": [
      "replace() argument 2 must be str, not None\n"
     ]
    },
    {
     "name": "stderr",
     "output_type": "stream",
     "text": [
      "Processing Batch 186/228: 100%|██████████| 100/100 [00:00<00:00, 330.38it/s]\n",
      "Processing Batch 187/228: 100%|██████████| 100/100 [00:00<00:00, 371.09it/s]"
     ]
    },
    {
     "name": "stdout",
     "output_type": "stream",
     "text": [
      "replace() argument 2 must be str, not None\n"
     ]
    },
    {
     "name": "stderr",
     "output_type": "stream",
     "text": [
      "\n",
      "Processing Batch 188/228: 100%|██████████| 100/100 [00:00<00:00, 395.41it/s]\n",
      "Processing Batch 189/228: 100%|██████████| 100/100 [00:00<00:00, 394.18it/s]\n"
     ]
    },
    {
     "name": "stdout",
     "output_type": "stream",
     "text": [
      "replace() argument 2 must be str, not None\n"
     ]
    },
    {
     "name": "stderr",
     "output_type": "stream",
     "text": [
      "Processing Batch 190/228: 100%|██████████| 100/100 [00:00<00:00, 309.17it/s]\n",
      "Processing Batch 191/228: 100%|██████████| 100/100 [00:00<00:00, 352.44it/s]\n",
      "Processing Batch 192/228: 100%|██████████| 100/100 [00:00<00:00, 386.99it/s]\n",
      "Processing Batch 193/228:  48%|████▊     | 48/100 [00:00<00:00, 474.36it/s]"
     ]
    },
    {
     "name": "stdout",
     "output_type": "stream",
     "text": [
      "replace() argument 2 must be str, not None\n",
      "replace() argument 2 must be str, not None\n"
     ]
    },
    {
     "name": "stderr",
     "output_type": "stream",
     "text": [
      "Processing Batch 193/228: 100%|██████████| 100/100 [00:00<00:00, 443.13it/s]\n",
      "Processing Batch 194/228: 100%|██████████| 100/100 [00:00<00:00, 362.29it/s]\n",
      "Processing Batch 195/228: 100%|██████████| 100/100 [00:00<00:00, 406.63it/s]\n",
      "Processing Batch 196/228:  55%|█████▌    | 55/100 [00:00<00:00, 406.56it/s]"
     ]
    },
    {
     "name": "stdout",
     "output_type": "stream",
     "text": [
      "replace() argument 2 must be str, not None\n"
     ]
    },
    {
     "name": "stderr",
     "output_type": "stream",
     "text": [
      "Processing Batch 196/228: 100%|██████████| 100/100 [00:00<00:00, 406.42it/s]\n"
     ]
    },
    {
     "name": "stdout",
     "output_type": "stream",
     "text": [
      "replace() argument 2 must be str, not None\n"
     ]
    },
    {
     "name": "stderr",
     "output_type": "stream",
     "text": [
      "Processing Batch 197/228:  50%|█████     | 50/100 [00:00<00:00, 484.96it/s]"
     ]
    },
    {
     "name": "stdout",
     "output_type": "stream",
     "text": [
      "replace() argument 2 must be str, not None\n",
      "replace() argument 2 must be str, not None\n"
     ]
    },
    {
     "name": "stderr",
     "output_type": "stream",
     "text": [
      "Processing Batch 197/228: 100%|██████████| 100/100 [00:00<00:00, 401.73it/s]\n",
      "Processing Batch 198/228: 100%|██████████| 100/100 [00:00<00:00, 364.36it/s]\n"
     ]
    },
    {
     "name": "stdout",
     "output_type": "stream",
     "text": [
      "replace() argument 2 must be str, not None\n"
     ]
    },
    {
     "name": "stderr",
     "output_type": "stream",
     "text": [
      "Processing Batch 199/228: 100%|██████████| 100/100 [00:00<00:00, 385.60it/s]\n"
     ]
    },
    {
     "name": "stdout",
     "output_type": "stream",
     "text": [
      "replace() argument 2 must be str, not None\n"
     ]
    },
    {
     "name": "stderr",
     "output_type": "stream",
     "text": [
      "Processing Batch 200/228: 100%|██████████| 100/100 [00:00<00:00, 380.60it/s]\n"
     ]
    },
    {
     "name": "stdout",
     "output_type": "stream",
     "text": [
      "replace() argument 2 must be str, not None\n"
     ]
    },
    {
     "name": "stderr",
     "output_type": "stream",
     "text": [
      "Processing Batch 201/228:  50%|█████     | 50/100 [00:00<00:00, 485.15it/s]"
     ]
    },
    {
     "name": "stdout",
     "output_type": "stream",
     "text": [
      "replace() argument 2 must be str, not None\n"
     ]
    },
    {
     "name": "stderr",
     "output_type": "stream",
     "text": [
      "Processing Batch 201/228: 100%|██████████| 100/100 [00:00<00:00, 477.51it/s]\n",
      "Processing Batch 202/228: 100%|██████████| 100/100 [00:00<00:00, 366.21it/s]\n",
      "Processing Batch 203/228: 100%|██████████| 100/100 [00:00<00:00, 319.18it/s]\n",
      "Processing Batch 204/228: 100%|██████████| 100/100 [00:00<00:00, 328.63it/s]\n",
      "Processing Batch 205/228: 100%|██████████| 100/100 [00:00<00:00, 424.92it/s]\n"
     ]
    },
    {
     "name": "stdout",
     "output_type": "stream",
     "text": [
      "replace() argument 2 must be str, not None\n"
     ]
    },
    {
     "name": "stderr",
     "output_type": "stream",
     "text": [
      "Processing Batch 206/228:  44%|████▍     | 44/100 [00:00<00:00, 351.85it/s]"
     ]
    },
    {
     "name": "stdout",
     "output_type": "stream",
     "text": [
      "replace() argument 2 must be str, not None\n"
     ]
    },
    {
     "name": "stderr",
     "output_type": "stream",
     "text": [
      "Processing Batch 206/228: 100%|██████████| 100/100 [00:00<00:00, 379.54it/s]\n",
      "Processing Batch 207/228:   0%|          | 0/100 [00:00<?, ?it/s]"
     ]
    },
    {
     "name": "stdout",
     "output_type": "stream",
     "text": [
      "replace() argument 2 must be str, not None\n"
     ]
    },
    {
     "name": "stderr",
     "output_type": "stream",
     "text": [
      "Processing Batch 207/228: 100%|██████████| 100/100 [00:00<00:00, 319.17it/s]\n",
      "Processing Batch 208/228: 100%|██████████| 100/100 [00:00<00:00, 302.57it/s]\n",
      "Processing Batch 209/228: 100%|██████████| 100/100 [00:00<00:00, 369.42it/s]\n"
     ]
    },
    {
     "name": "stdout",
     "output_type": "stream",
     "text": [
      "replace() argument 2 must be str, not None\n"
     ]
    },
    {
     "name": "stderr",
     "output_type": "stream",
     "text": [
      "Processing Batch 210/228: 100%|██████████| 100/100 [00:00<00:00, 366.14it/s]\n"
     ]
    },
    {
     "name": "stdout",
     "output_type": "stream",
     "text": [
      "replace() argument 2 must be str, not None\n"
     ]
    },
    {
     "name": "stderr",
     "output_type": "stream",
     "text": [
      "Processing Batch 211/228:   0%|          | 0/100 [00:00<?, ?it/s]"
     ]
    },
    {
     "name": "stdout",
     "output_type": "stream",
     "text": [
      "replace() argument 2 must be str, not None\n"
     ]
    },
    {
     "name": "stderr",
     "output_type": "stream",
     "text": [
      "Processing Batch 211/228:  47%|████▋     | 47/100 [00:00<00:00, 464.13it/s]"
     ]
    },
    {
     "name": "stdout",
     "output_type": "stream",
     "text": [
      "replace() argument 2 must be str, not None\n"
     ]
    },
    {
     "name": "stderr",
     "output_type": "stream",
     "text": [
      "Processing Batch 211/228: 100%|██████████| 100/100 [00:00<00:00, 461.70it/s]\n",
      "Processing Batch 212/228:   0%|          | 0/100 [00:00<?, ?it/s]"
     ]
    },
    {
     "name": "stdout",
     "output_type": "stream",
     "text": [
      "replace() argument 2 must be str, not None\n"
     ]
    },
    {
     "name": "stderr",
     "output_type": "stream",
     "text": [
      "Processing Batch 212/228: 100%|██████████| 100/100 [00:00<00:00, 400.69it/s]\n"
     ]
    },
    {
     "name": "stdout",
     "output_type": "stream",
     "text": [
      "replace() argument 2 must be str, not None\n",
      "replace() argument 2 must be str, not None\n"
     ]
    },
    {
     "name": "stderr",
     "output_type": "stream",
     "text": [
      "Processing Batch 213/228: 100%|██████████| 100/100 [00:00<00:00, 415.63it/s]\n"
     ]
    },
    {
     "name": "stdout",
     "output_type": "stream",
     "text": [
      "replace() argument 2 must be str, not None\n"
     ]
    },
    {
     "name": "stderr",
     "output_type": "stream",
     "text": [
      "Processing Batch 214/228:   0%|          | 0/100 [00:00<?, ?it/s]"
     ]
    },
    {
     "name": "stdout",
     "output_type": "stream",
     "text": [
      "replace() argument 2 must be str, not None\n"
     ]
    },
    {
     "name": "stderr",
     "output_type": "stream",
     "text": [
      "Processing Batch 214/228: 100%|██████████| 100/100 [00:00<00:00, 360.05it/s]\n",
      "Processing Batch 215/228: 100%|██████████| 100/100 [00:00<00:00, 392.60it/s]\n"
     ]
    },
    {
     "name": "stdout",
     "output_type": "stream",
     "text": [
      "replace() argument 2 must be str, not None\n"
     ]
    },
    {
     "name": "stderr",
     "output_type": "stream",
     "text": [
      "Processing Batch 216/228:   0%|          | 0/100 [00:00<?, ?it/s]"
     ]
    },
    {
     "name": "stdout",
     "output_type": "stream",
     "text": [
      "replace() argument 2 must be str, not None\n"
     ]
    },
    {
     "name": "stderr",
     "output_type": "stream",
     "text": [
      "Processing Batch 216/228:  75%|███████▌  | 75/100 [00:00<00:00, 357.68it/s]"
     ]
    },
    {
     "name": "stdout",
     "output_type": "stream",
     "text": [
      "replace() argument 2 must be str, not None\n",
      "replace() argument 2 must be str, not None\n"
     ]
    },
    {
     "name": "stderr",
     "output_type": "stream",
     "text": [
      "Processing Batch 216/228: 100%|██████████| 100/100 [00:00<00:00, 350.30it/s]\n",
      "Processing Batch 217/228:   0%|          | 0/100 [00:00<?, ?it/s]"
     ]
    },
    {
     "name": "stdout",
     "output_type": "stream",
     "text": [
      "replace() argument 2 must be str, not None\n",
      "replace() argument 2 must be str, not None\n"
     ]
    },
    {
     "name": "stderr",
     "output_type": "stream",
     "text": [
      "Processing Batch 217/228: 100%|██████████| 100/100 [00:00<00:00, 345.93it/s]\n",
      "Processing Batch 218/228: 100%|██████████| 100/100 [00:00<00:00, 343.30it/s]\n"
     ]
    },
    {
     "name": "stdout",
     "output_type": "stream",
     "text": [
      "replace() argument 2 must be str, not None\n"
     ]
    },
    {
     "name": "stderr",
     "output_type": "stream",
     "text": [
      "Processing Batch 219/228:   0%|          | 0/100 [00:00<?, ?it/s]"
     ]
    },
    {
     "name": "stdout",
     "output_type": "stream",
     "text": [
      "replace() argument 2 must be str, not None\n"
     ]
    },
    {
     "name": "stderr",
     "output_type": "stream",
     "text": [
      "Processing Batch 219/228:  84%|████████▍ | 84/100 [00:00<00:00, 373.79it/s]"
     ]
    },
    {
     "name": "stdout",
     "output_type": "stream",
     "text": [
      "replace() argument 2 must be str, not None\n"
     ]
    },
    {
     "name": "stderr",
     "output_type": "stream",
     "text": [
      "Processing Batch 219/228: 100%|██████████| 100/100 [00:00<00:00, 339.79it/s]\n",
      "Processing Batch 220/228: 100%|██████████| 100/100 [00:00<00:00, 372.85it/s]\n",
      "Processing Batch 221/228: 100%|██████████| 100/100 [00:00<00:00, 364.29it/s]\n",
      "Processing Batch 222/228:  66%|██████▌   | 66/100 [00:00<00:00, 310.60it/s]"
     ]
    },
    {
     "name": "stdout",
     "output_type": "stream",
     "text": [
      "replace() argument 2 must be str, not None\n"
     ]
    },
    {
     "name": "stderr",
     "output_type": "stream",
     "text": [
      "Processing Batch 222/228: 100%|██████████| 100/100 [00:00<00:00, 314.24it/s]\n",
      "Processing Batch 223/228: 100%|██████████| 100/100 [00:00<00:00, 343.46it/s]\n",
      "Processing Batch 224/228: 100%|██████████| 100/100 [00:00<00:00, 335.84it/s]\n",
      "Processing Batch 225/228:  75%|███████▌  | 75/100 [00:00<00:00, 329.38it/s]"
     ]
    },
    {
     "name": "stdout",
     "output_type": "stream",
     "text": [
      "replace() argument 2 must be str, not None\n",
      "replace() argument 2 must be str, not None\n",
      "replace() argument 2 must be str, not None\n",
      "replace() argument 2 must be str, not None\n"
     ]
    },
    {
     "name": "stderr",
     "output_type": "stream",
     "text": [
      "Processing Batch 225/228: 100%|██████████| 100/100 [00:00<00:00, 376.47it/s]\n",
      "Processing Batch 226/228: 100%|██████████| 100/100 [00:00<00:00, 338.53it/s]\n"
     ]
    },
    {
     "name": "stdout",
     "output_type": "stream",
     "text": [
      "replace() argument 2 must be str, not None\n"
     ]
    },
    {
     "name": "stderr",
     "output_type": "stream",
     "text": [
      "Processing Batch 227/228: 100%|██████████| 100/100 [00:00<00:00, 482.27it/s]\n"
     ]
    },
    {
     "name": "stdout",
     "output_type": "stream",
     "text": [
      "replace() argument 2 must be str, not None\n",
      "replace() argument 2 must be str, not None\n"
     ]
    },
    {
     "name": "stderr",
     "output_type": "stream",
     "text": [
      "Processing Batch 228/228:   0%|          | 0/39 [00:00<?, ?it/s]"
     ]
    },
    {
     "name": "stdout",
     "output_type": "stream",
     "text": [
      "replace() argument 2 must be str, not None\n",
      "replace() argument 2 must be str, not None\n"
     ]
    },
    {
     "name": "stderr",
     "output_type": "stream",
     "text": [
      "Processing Batch 228/228: 100%|██████████| 39/39 [00:00<00:00, 419.68it/s]\n"
     ]
    }
   ],
   "source": [
    "MIN_TEXT_LENGTH = 200\n",
    "MAX_TEXT_LENGTH = 400\n",
    "\n",
    "def save_extracted_data(file_path, data):\n",
    "    with open(file_path, 'a') as file:\n",
    "        for sample in data:\n",
    "            json.dump(sample, file)\n",
    "            file.write('\\n')  # Add newline character to separate JSON objects\n",
    "\n",
    "\n",
    "def extract_text(filepath):\n",
    "    source_paper_path = f\"{os.getcwd()}/{SOURCE_DIR}/{filepath}\"\n",
    "    sample = {\n",
    "        \"filename\": filepath,\n",
    "        \"title\": \"\",  # Initialize title\n",
    "        \"texts\": []   # Initialize list to store extracted text\n",
    "    }\n",
    "    tree = ET.parse(source_paper_path)\n",
    "    try:\n",
    "        root = tree.getroot()\n",
    "\n",
    "        # Define the namespace map\n",
    "        ns = {'tei': 'http://www.tei-c.org/ns/1.0'}\n",
    "\n",
    "        # Extract title\n",
    "        title = \"\"\n",
    "        teiHeader_elem = root.find('tei:teiHeader', namespaces=ns)\n",
    "        if teiHeader_elem is not None:\n",
    "            fileDesk_elem = teiHeader_elem.find('tei:fileDesc', namespaces=ns)\n",
    "            if fileDesk_elem is not None:\n",
    "                titleStmt_elem = fileDesk_elem.find('tei:titleStmt', namespaces=ns)\n",
    "                if titleStmt_elem is not None:\n",
    "                    title_elem = titleStmt_elem.find('tei:title', namespaces=ns)\n",
    "                    if title_elem is not None:\n",
    "                        title = title_elem.text\n",
    "                    else:\n",
    "                        print(\"No <title> element found.\")\n",
    "                else:\n",
    "                    print(\"No <titleStmt> element found.\")\n",
    "            else:\n",
    "                print(\"No <fileDesc> element found.\")\n",
    "        else:\n",
    "            print(\"No <teiHeader> element found.\")\n",
    "        sample['title'] = title\n",
    "\n",
    "        # Extract text\n",
    "        text_list = []\n",
    "        text_elem = root.find('tei:text', namespaces=ns)\n",
    "        if text_elem is not None:\n",
    "            body_elem = text_elem.find('tei:body', namespaces=ns)\n",
    "            if body_elem is not None:\n",
    "                texts = body_elem.findall('tei:div', namespaces=ns)\n",
    "                for div in texts:\n",
    "                    text = ' '.join(div.itertext())\n",
    "                    for prompt in STYLES.values():\n",
    "                        if len(text.split(\" \")) > MIN_TEXT_LENGTH and len(text.split(\" \")) < MAX_TEXT_LENGTH: \n",
    "                            text2 = prompt.replace(\"<ADD_TOPIC>\", title).replace(\"<INSERT_EXTRACT>\", text)\n",
    "                            text_list.append(text2)\n",
    "        sample['texts'] = text_list\n",
    "\n",
    "    except Exception as e:\n",
    "        print(e)\n",
    "    return sample\n",
    "\n",
    "def main():\n",
    "    filenames = [k for k in os.listdir(os.getcwd() + \"/\" + SOURCE_DIR + \"/\") if k.endswith('.xml')]\n",
    "    # print(os.getcwd() + \"/\" + DEST_DIR)\n",
    "    print(len(filenames))\n",
    "    batch_size = 100  # Adjust batch size as needed\n",
    "    total_batches = len(filenames) // batch_size + 1\n",
    "    with ThreadPoolExecutor(max_workers=2) as executor:\n",
    "        for batch_num in range(total_batches):\n",
    "            batch_filenames = filenames[batch_num * batch_size: (batch_num + 1) * batch_size]\n",
    "            extracted_data = []\n",
    "            for sample in tqdm(executor.map(extract_text, batch_filenames), total=len(batch_filenames), desc=f\"Processing Batch {batch_num + 1}/{total_batches}\"):\n",
    "                extracted_data.append(sample)\n",
    "            save_extracted_data(f'{DEST_DIR}/data.json', extracted_data)\n",
    "\n",
    "main()\n"
   ]
  },
  {
   "cell_type": "markdown",
   "metadata": {},
   "source": [
    "We now have a json file with the collected data and transform it into the arrow format for ease of use."
   ]
  },
  {
   "cell_type": "code",
   "execution_count": 8,
   "metadata": {},
   "outputs": [
    {
     "name": "stderr",
     "output_type": "stream",
     "text": [
      "47188it [00:00, 78143.86it/s] \n"
     ]
    },
    {
     "ename": "TypeError",
     "evalue": "'Dataset' object does not support item assignment",
     "output_type": "error",
     "traceback": [
      "\u001b[0;31m---------------------------------------------------------------------------\u001b[0m",
      "\u001b[0;31mTypeError\u001b[0m                                 Traceback (most recent call last)",
      "Cell \u001b[0;32mIn[8], line 19\u001b[0m\n\u001b[1;32m     16\u001b[0m         dataset_dict[\u001b[38;5;124m\"\u001b[39m\u001b[38;5;124mtext\u001b[39m\u001b[38;5;124m\"\u001b[39m]\u001b[38;5;241m.\u001b[39mappend(text)\n\u001b[1;32m     18\u001b[0m dataset \u001b[38;5;241m=\u001b[39m Dataset\u001b[38;5;241m.\u001b[39mfrom_dict(dataset_dict)\n\u001b[0;32m---> 19\u001b[0m \u001b[43mdataset\u001b[49m\u001b[43m[\u001b[49m\u001b[38;5;124;43m\"\u001b[39;49m\u001b[38;5;124;43mdescription\u001b[39;49m\u001b[38;5;124;43m\"\u001b[39;49m\u001b[43m]\u001b[49m \u001b[38;5;241m=\u001b[39m \u001b[38;5;124m\"\u001b[39m\u001b[38;5;124mExtracted paragraphs between 200 and 400 words long from Chemrxiv papers.\u001b[39m\u001b[38;5;124m\"\u001b[39m\n\u001b[1;32m     20\u001b[0m dataset\u001b[38;5;241m.\u001b[39msave_to_disk(\u001b[38;5;124m\"\u001b[39m\u001b[38;5;124mdatasets/huggingface_dataset_large\u001b[39m\u001b[38;5;124m\"\u001b[39m)\n",
      "\u001b[0;31mTypeError\u001b[0m: 'Dataset' object does not support item assignment"
     ]
    }
   ],
   "source": [
    "import jsonlines\n",
    "from datasets import Dataset\n",
    "from tqdm import tqdm\n",
    "\n",
    "dataset_dict = {\n",
    "        \"title\": [],\n",
    "        \"filename\": [],\n",
    "        \"text\": []\n",
    "    }\n",
    "\n",
    "with jsonlines.open(f'{DEST_DIR}/data.json') as reader:\n",
    "    for paper in tqdm(reader):\n",
    "        for text in paper[\"texts\"]:\n",
    "            dataset_dict[\"title\"].append(paper[\"title\"])\n",
    "            dataset_dict[\"filename\"].append(paper[\"filename\"])\n",
    "            dataset_dict[\"text\"].append(text)\n",
    "\n",
    "    dataset = Dataset.from_dict(dataset_dict)\n",
    "    dataset.save_to_disk(\"datasets/huggingface_dataset_large\")"
   ]
  },
  {
   "cell_type": "markdown",
   "metadata": {},
   "source": [
    "## ✨ Synthetic data"
   ]
  },
  {
   "cell_type": "markdown",
   "metadata": {},
   "source": [
    "Now that we have a dataset in the arrows format we can start synthesizing some data. To be as efficient as possible and allow for iterative testing, we use a modified version of llm_swarm that allows for the creation of side-by-side pods running [TGI](https://huggingface.co/docs/text-generation-inference/index) with whatever model that is available.\n",
    "\n",
    "⚠️ Replace YOURTOKENHERE by your huggingface token (cat ~/.cache/huggingface/token)"
   ]
  },
  {
   "cell_type": "code",
   "execution_count": null,
   "metadata": {},
   "outputs": [],
   "source": [
    "import asyncio\n",
    "import json\n",
    "import sys\n",
    "sys.path.append(\"./llm_swarm\")\n",
    "from llm_swarm import LLMSwarm, LLMSwarmConfig\n",
    "from huggingface_hub import AsyncInferenceClient\n",
    "from transformers import AutoTokenizer\n",
    "import nest_asyncio\n",
    "from tqdm.asyncio import tqdm_asyncio\n",
    "import time\n",
    "\n",
    "# Define your LLMSwarmConfig\n",
    "isc = LLMSwarmConfig(\n",
    "    instances=1, #Number of instances\n",
    "    inference_engine=\"tgi\", #The engine to use. (Could use vLLM)\n",
    "    job_scheduler=\"runai\", #The scheduler to use (would otherwise be slurm)\n",
    "    gpus=1, #Number of GPUs to use per instance\n",
    "    model=\"meta-llama/Meta-Llama-3-8B-Instruct\", #Model for inference\n",
    "    template_path=\"llm_swarm/templates/tgi.template.yml\", #Template used for the run\n",
    "    load_balancer_template_path=\"llm_swarm/templates/nginx.template.conf\", #Load distributor\n",
    "    huggingface_token=\"YOURTOKENHERE\", #Huggingface token\n",
    "    model_max_total=3000,\n",
    "    model_max_input=1200,\n",
    "    per_instance_max_parallel_requests=300,\n",
    ")\n",
    "\n",
    "# Load tokenizer\n",
    "tokenizer = AutoTokenizer.from_pretrained(isc.model)\n",
    "\n",
    "# Load dataset\n",
    "ds = Dataset.load_from_disk(\"datasets/huggingface_dataset_large\")\n",
    "print(ds.features)\n",
    "ds = ds.select(range(0, 100))\n",
    "\n",
    "# Define your processing function\n",
    "async def process_text(task, client, semaphore, tokenizer):\n",
    "    async with semaphore:\n",
    "        prompt = rf\"<s>[INST] {task['text']} [\\INST]\"\n",
    "        completion = await client.text_generation(\n",
    "            prompt=prompt,\n",
    "            max_new_tokens=1000,\n",
    "            stop_sequences=[\"User:\", \"###\", \"<|endoftext|>\"],\n",
    "            repetition_penalty=1.3,\n",
    "        )\n",
    "        tokenized_completion = tokenizer.encode(completion)\n",
    "        token_length = len(tokenized_completion)\n",
    "        return task[\"title\"], task[\"filename\"], task[\"text\"], completion, token_length\n",
    "\n",
    "# Save results function\n",
    "def save_results(results):\n",
    "    with open(\"results.json\", \"a\") as file:\n",
    "        json.dump(results, file)\n",
    "        file.write(\"\\n\")\n",
    "\n",
    "# Main processing function\n",
    "async def main():\n",
    "    start_time = time.time()\n",
    "\n",
    "    with LLMSwarm(isc) as llm_swarm:\n",
    "        semaphore = asyncio.Semaphore(llm_swarm.suggested_max_parallel_requests)\n",
    "        client = AsyncInferenceClient(model=llm_swarm.endpoint)\n",
    "\n",
    "        tasks = [\n",
    "            process_text(task, client, semaphore, tokenizer) for task in ds\n",
    "        ]\n",
    "        results = await tqdm_asyncio.gather(*tasks)\n",
    "\n",
    "        end_time = time.time()\n",
    "        total_duration = end_time - start_time\n",
    "        total_tokens = sum(result[4] for result in results)\n",
    "        overall_tokens_per_second = total_tokens / total_duration if total_duration > 0 else 0\n",
    "\n",
    "        # Prepare processed data\n",
    "        processed_data = {\n",
    "            \"title\": [result[0] for result in results],\n",
    "            \"filename\": [result[1] for result in results],\n",
    "            \"original_text\": [result[2] for result in results],\n",
    "            \"processed_text\": [result[3] for result in results],\n",
    "            \"token_length\": [result[4] for result in results],\n",
    "        }\n",
    "\n",
    "        processed_ds = Dataset.from_dict(processed_data)\n",
    "        processed_ds.save_to_disk(\"synthetic_data\")\n",
    "\n",
    "        # processed_ds.push_to_hub(\"TugdualKerjan/SynthChem\")\n",
    "\n",
    "        print(f\"Overall Tokens per Second: {overall_tokens_per_second}\")\n",
    "        save_results(results)\n",
    "\n",
    "# Run the main function\n",
    "nest_asyncio.apply()\n",
    "asyncio.run(main())\n"
   ]
  }
 ],
 "metadata": {
  "kernelspec": {
   "display_name": "fresh",
   "language": "python",
   "name": "python3"
  },
  "language_info": {
   "codemirror_mode": {
    "name": "ipython",
    "version": 3
   },
   "file_extension": ".py",
   "mimetype": "text/x-python",
   "name": "python",
   "nbconvert_exporter": "python",
   "pygments_lexer": "ipython3",
   "version": "3.10.14"
  }
 },
 "nbformat": 4,
 "nbformat_minor": 2
}
